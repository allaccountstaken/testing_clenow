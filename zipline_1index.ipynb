{
 "cells": [
  {
   "cell_type": "code",
   "execution_count": 1,
   "metadata": {},
   "outputs": [],
   "source": [
    "import matplotlib.pyplot as plt\n",
    "import pandas as pd\n",
    "from zipline import run_algorithm\n",
    "from zipline.api import order_target_percent, record, symbol\n",
    "from datetime import datetime\n",
    "import pytz\n",
    "\n",
    "%matplotlib inline "
   ]
  },
  {
   "cell_type": "code",
   "execution_count": 2,
   "metadata": {},
   "outputs": [],
   "source": [
    "def initialize(context):\n",
    "    dji = ['AAPL',\n",
    "          'AXP',\n",
    "          'BA',\n",
    "          'CAT',\n",
    "          'CSCO',\n",
    "          'CVX',\n",
    "          'DIS',\n",
    "          'DWDP', # ? \"DD\" or \"GE\"\n",
    "          'GS',\n",
    "          'HD',\n",
    "          'IBM',\n",
    "          'INTC',\n",
    "          'JNJ',\n",
    "          'JPM',\n",
    "          'KO',\n",
    "          'MCD',\n",
    "          'MMM',\n",
    "          'MRK',\n",
    "          'MSFT',\n",
    "          'NKE',\n",
    "          'PFE',\n",
    "          'PG',\n",
    "          'TRV',\n",
    "          'UNH',\n",
    "          'UTX', #RTX\n",
    "          'V',\n",
    "          'VZ',\n",
    "          'WBA',\n",
    "          'WMT',\n",
    "          'XOM']\n",
    "    \n",
    "    # Make a list of symbols from the list of tickers\n",
    "    context.dji_symbols = [symbol(s) for s in dji]\n",
    "    \n",
    "    # Moving average window\n",
    "    context.index_average_window = 100\n",
    "    \n",
    "    # Set zipline benchmark to false\n",
    "    context.set_benchmark(False)\n",
    "\n",
    "def handle_data(data, context):\n",
    "    # Get history of all the stock \n",
    "    stock_hist = data.history(context.dji_symbols, 'close', context.index_average_window, '1d')\n",
    "    \n",
    "    # Make empty DataFrame to start with\n",
    "    stock_analytics = pd.DataFrame()\n",
    "    \n",
    "    # Add column for above or below average\n",
    "    stock_analytics['above_mean'] = stock_hist.iloc[-1] > pstock_hist.mean()\n",
    "    \n",
    "    # Set weights for stocks to buy\n",
    "    stock_analytics.loc[stock_analytics['above_mean'] == True, 'weight'] = 1/len(context.dji_symbols)\n",
    "    \n",
    "    # Set zero weights for the rest\n",
    "    stock_analytics.loc[stock_analytics['above_mean'] == False, 'weight'] = 0.0\n",
    "    \n",
    "    # Iterate each row and place trades\n",
    "    for stock, analytics in stock_analytics.itterrows():\n",
    "        # Check if the stock can be traded?\n",
    "        if data.can_trade(stock):\n",
    "            # Place the trade\n",
    "            order_target_percent(stock, analytics['weight'])\n",
    "            \n",
    "def analyze(context, perf):\n",
    "    fig = plt.figure(figsize=(12, 8))\n",
    "    \n",
    "    # First chart\n",
    "    ax1 = fig.add_subplot(311)\n",
    "    ax1.set_title('Strategy results')\n",
    "    ax1.plot(pref['portfolio_value'], linestyle='-', label='Equity Curve', linewidth=3.0)\n",
    "    ax1.legend()\n",
    "    ax1.grid(False)\n",
    "    \n",
    "    # Second chart\n",
    "    ax2 = fig.add_subplot(312)\n",
    "    ax2.plot(perf['gross_leverage'], linestule='-', linewidth=1.0)\n",
    "    ax2.legend()\n",
    "    ax2.grid(True)\n",
    "    \n",
    "    # Third chart\n",
    "    ax3 = fig.add_subplot(313)\n",
    "    ax3.plot(perf['returns'], label='Returns', linestyle='-.', linewidth=1.0)\n",
    "    ax3.legend()\n",
    "    ax3.grid(True)\n",
    "    \n",
    "    "
   ]
  },
  {
   "cell_type": "code",
   "execution_count": 3,
   "metadata": {},
   "outputs": [],
   "source": [
    "# Set start and end dates\n",
    "#start = pd.to_datetime('2004-1-1', utc=True)\n",
    "#end = pd.to_datetime('2005-12-31', utc=True)\n",
    "\n",
    "start = pd.Timestamp('2002-1-1', tz='utc')\n",
    "end = pd.Timestamp('2017-12-31', tz='utc')"
   ]
  },
  {
   "cell_type": "code",
   "execution_count": null,
   "metadata": {},
   "outputs": [
    {
     "name": "stderr",
     "output_type": "stream",
     "text": [
      "Traceback (most recent call last):\n",
      "  File \"zipline/gens/sim_engine.pyx\", line 109, in __iter__\n",
      "GeneratorExit\n"
     ]
    }
   ],
   "source": [
    "# Run the backtest and get the results\n",
    "results = run_algorithm(start=start, \n",
    "                        end=end,\n",
    "                        initialize=initialize,\n",
    "                        analyze=analyze, \n",
    "                        handle_data=handle_data,\n",
    "                        capital_base=10000,\n",
    "                        data_frequency='daily', bundle='quandl'\n",
    "                       )"
   ]
  }
 ],
 "metadata": {
  "kernelspec": {
   "display_name": "Python 3",
   "language": "python",
   "name": "python3"
  },
  "language_info": {
   "codemirror_mode": {
    "name": "ipython",
    "version": 3
   },
   "file_extension": ".py",
   "mimetype": "text/x-python",
   "name": "python",
   "nbconvert_exporter": "python",
   "pygments_lexer": "ipython3",
   "version": "3.5.6"
  }
 },
 "nbformat": 4,
 "nbformat_minor": 4
}
