{
 "cells": [
  {
   "cell_type": "code",
   "execution_count": 1,
   "metadata": {},
   "outputs": [],
   "source": [
    "import matplotlib.pyplot as plt\n",
    "import pandas as pd\n",
    "from zipline import run_algorithm\n",
    "from zipline.api import order_target_percent, record, symbol\n",
    "from datetime import datetime\n",
    "import pytz\n",
    "\n",
    "%matplotlib inline "
   ]
  },
  {
   "cell_type": "code",
   "execution_count": 2,
   "metadata": {},
   "outputs": [],
   "source": [
    "def initialize(context):\n",
    "    dji = ['APPL',\n",
    "          'AXP',\n",
    "          'BA',\n",
    "          'CAT',\n",
    "          'CSCO',\n",
    "          'CVX',\n",
    "          'DIS',\n",
    "          'DWDP', # ? \"DD\" or \"GE\"\n",
    "          'GS',\n",
    "          'HD',\n",
    "          'IBM',\n",
    "          'INTC',\n",
    "          'JNJ',\n",
    "          'JPM',\n",
    "          'KO',\n",
    "          'MCD',\n",
    "          'MMM',\n",
    "          'MRK',\n",
    "          'MSFT',\n",
    "          'NKE',\n",
    "          'PFE',\n",
    "          'PG',\n",
    "          'TRV',\n",
    "          'UNH',\n",
    "          'UTX', #RTX\n",
    "          'V',\n",
    "          'VZ',\n",
    "          'WBA',\n",
    "          'WMT',\n",
    "          'XOM']\n",
    "    \n",
    "    # Make a list of symbols from the list of tickers\n",
    "    context.dji_symbols = [symbol(s) for s in dji]\n",
    "    \n",
    "    # Moving average window\n",
    "    context.index_average_window = 100\n",
    "\n",
    "def handle_data(data, context):\n",
    "    # Get history of all the stock \n",
    "    stock_hist = data.history(context.dji_symbols, 'close', context.index_average_window, '1d')\n",
    "    \n",
    "    # Make empty DataFrame to start with\n",
    "    stock_analytics = pd.DateFrame()\n",
    "    \n",
    "    # Add column for above or below average\n",
    "    stock_analytics['above_mean'] = stock_hist.iloc[-1] > stock_hist.mean()\n",
    "    \n",
    "    # Set weights for stocks to buy\n",
    "    stock_analytics.loc[stock_analytics['above_mean'] == True, 'weight'] = 1/len(context.dji_symbols)\n",
    "    \n",
    "    # Set zero weights for the rest\n",
    "    stock_analytics.loc[stock_analytics['above_mean'] == False, 'weight'] = 0.0\n",
    "    \n",
    "    # Iterate each row and place trades\n",
    "    for stock, analytics in stock_analytics.itterrows():\n",
    "        # Check if the stock can be traded?\n",
    "        if data.can_trade(stock):\n",
    "            # Place the trade\n",
    "            order_target_percent(stock, analytics['weight'])\n",
    "            \n",
    "def analyze(context, perf):\n",
    "    fig = plt.figure(figsize=(12, 8))\n",
    "    \n",
    "    # First chart\n",
    "    ax1 = fig.add_subplot(311)\n",
    "    ax1.set_title('Strategy results')\n",
    "    ax1.plot(pref['portfolio_value'], linestyle='-', label='Equity Curve', linewidth=3.0)\n",
    "    ax1.legend()\n",
    "    ax1.grid(False)\n",
    "    \n",
    "    # Second chart\n",
    "    ax2 = fig.add_subplot(312)\n",
    "    ax2.plot(perf['gross_leverage'], linestule='-', linewidth=1.0)\n",
    "    ax2.legend()\n",
    "    ax2.grid(True)\n",
    "    \n",
    "    # Third chart\n",
    "    ax3 = fig.add_subplot(313)\n",
    "    ax3.plot(perf['returns'], label='Returns', linestyle='-.', linewidth=1.0)\n",
    "    ax3.legend()\n",
    "    ax3.grid(True)\n",
    "    \n",
    "    "
   ]
  },
  {
   "cell_type": "code",
   "execution_count": 3,
   "metadata": {},
   "outputs": [],
   "source": [
    "# Set start and end dates\n",
    "start = datetime(2003, 1, 1, tzinfo=pytz.UTC)\n",
    "end = datetime(2007, 12, 31, tzinfo=pytz.UTC)"
   ]
  },
  {
   "cell_type": "code",
   "execution_count": 4,
   "metadata": {},
   "outputs": [
    {
     "ename": "AssertionError",
     "evalue": "",
     "output_type": "error",
     "traceback": [
      "\u001b[0;31m---------------------------------------------------------------------------\u001b[0m",
      "\u001b[0;31mAssertionError\u001b[0m                            Traceback (most recent call last)",
      "\u001b[0;32m<ipython-input-4-624450b94808>\u001b[0m in \u001b[0;36m<module>\u001b[0;34m()\u001b[0m\n\u001b[1;32m      7\u001b[0m                         \u001b[0mcapital_base\u001b[0m\u001b[0;34m=\u001b[0m\u001b[0;36m10000\u001b[0m\u001b[0;34m,\u001b[0m\u001b[0;34m\u001b[0m\u001b[0m\n\u001b[1;32m      8\u001b[0m                         \u001b[0mdata_frequency\u001b[0m\u001b[0;34m=\u001b[0m\u001b[0;34m'daily'\u001b[0m\u001b[0;34m,\u001b[0m\u001b[0;34m\u001b[0m\u001b[0m\n\u001b[0;32m----> 9\u001b[0;31m                         \u001b[0mbundle\u001b[0m\u001b[0;34m=\u001b[0m\u001b[0;34m'quandl'\u001b[0m\u001b[0;34m\u001b[0m\u001b[0m\n\u001b[0m\u001b[1;32m     10\u001b[0m                        )\n",
      "\u001b[0;32m/Users/dmitrymikhaylov/opt/anaconda3/envs/zip35/lib/python3.5/site-packages/zipline/utils/run_algo.py\u001b[0m in \u001b[0;36mrun_algorithm\u001b[0;34m(start, end, initialize, capital_base, handle_data, before_trading_start, analyze, data_frequency, bundle, bundle_timestamp, trading_calendar, metrics_set, benchmark_returns, default_extension, extensions, strict_extensions, environ, blotter)\u001b[0m\n\u001b[1;32m    405\u001b[0m         \u001b[0menviron\u001b[0m\u001b[0;34m=\u001b[0m\u001b[0menviron\u001b[0m\u001b[0;34m,\u001b[0m\u001b[0;34m\u001b[0m\u001b[0m\n\u001b[1;32m    406\u001b[0m         \u001b[0mblotter\u001b[0m\u001b[0;34m=\u001b[0m\u001b[0mblotter\u001b[0m\u001b[0;34m,\u001b[0m\u001b[0;34m\u001b[0m\u001b[0m\n\u001b[0;32m--> 407\u001b[0;31m         \u001b[0mbenchmark_spec\u001b[0m\u001b[0;34m=\u001b[0m\u001b[0mbenchmark_spec\u001b[0m\u001b[0;34m,\u001b[0m\u001b[0;34m\u001b[0m\u001b[0m\n\u001b[0m\u001b[1;32m    408\u001b[0m     )\n\u001b[1;32m    409\u001b[0m \u001b[0;34m\u001b[0m\u001b[0m\n",
      "\u001b[0;32m/Users/dmitrymikhaylov/opt/anaconda3/envs/zip35/lib/python3.5/site-packages/zipline/utils/run_algo.py\u001b[0m in \u001b[0;36m_run\u001b[0;34m(handle_data, initialize, before_trading_start, analyze, algofile, algotext, defines, data_frequency, capital_base, bundle, bundle_timestamp, start, end, output, trading_calendar, print_algo, metrics_set, local_namespace, environ, blotter, benchmark_spec)\u001b[0m\n\u001b[1;32m    201\u001b[0m                 \u001b[0mtrading_calendar\u001b[0m\u001b[0;34m=\u001b[0m\u001b[0mtrading_calendar\u001b[0m\u001b[0;34m,\u001b[0m\u001b[0;34m\u001b[0m\u001b[0m\n\u001b[1;32m    202\u001b[0m                 \u001b[0mcapital_base\u001b[0m\u001b[0;34m=\u001b[0m\u001b[0mcapital_base\u001b[0m\u001b[0;34m,\u001b[0m\u001b[0;34m\u001b[0m\u001b[0m\n\u001b[0;32m--> 203\u001b[0;31m                 \u001b[0mdata_frequency\u001b[0m\u001b[0;34m=\u001b[0m\u001b[0mdata_frequency\u001b[0m\u001b[0;34m,\u001b[0m\u001b[0;34m\u001b[0m\u001b[0m\n\u001b[0m\u001b[1;32m    204\u001b[0m             ),\n\u001b[1;32m    205\u001b[0m             \u001b[0mmetrics_set\u001b[0m\u001b[0;34m=\u001b[0m\u001b[0mmetrics_set\u001b[0m\u001b[0;34m,\u001b[0m\u001b[0;34m\u001b[0m\u001b[0m\n",
      "\u001b[0;32m/Users/dmitrymikhaylov/opt/anaconda3/envs/zip35/lib/python3.5/site-packages/zipline/finance/trading.py\u001b[0m in \u001b[0;36m__init__\u001b[0;34m(self, start_session, end_session, trading_calendar, capital_base, emission_rate, data_frequency, arena)\u001b[0m\n\u001b[1;32m     36\u001b[0m                  arena='backtest'):\n\u001b[1;32m     37\u001b[0m \u001b[0;34m\u001b[0m\u001b[0m\n\u001b[0;32m---> 38\u001b[0;31m         \u001b[0;32massert\u001b[0m \u001b[0mtype\u001b[0m\u001b[0;34m(\u001b[0m\u001b[0mstart_session\u001b[0m\u001b[0;34m)\u001b[0m \u001b[0;34m==\u001b[0m \u001b[0mpd\u001b[0m\u001b[0;34m.\u001b[0m\u001b[0mTimestamp\u001b[0m\u001b[0;34m\u001b[0m\u001b[0m\n\u001b[0m\u001b[1;32m     39\u001b[0m         \u001b[0;32massert\u001b[0m \u001b[0mtype\u001b[0m\u001b[0;34m(\u001b[0m\u001b[0mend_session\u001b[0m\u001b[0;34m)\u001b[0m \u001b[0;34m==\u001b[0m \u001b[0mpd\u001b[0m\u001b[0;34m.\u001b[0m\u001b[0mTimestamp\u001b[0m\u001b[0;34m\u001b[0m\u001b[0m\n\u001b[1;32m     40\u001b[0m \u001b[0;34m\u001b[0m\u001b[0m\n",
      "\u001b[0;31mAssertionError\u001b[0m: "
     ]
    }
   ],
   "source": [
    "# Run the backtest and get the results\n",
    "results = run_algorithm(start=start, \n",
    "                        end=end,\n",
    "                        initialize=initialize,\n",
    "                        analyze=analyze, \n",
    "                        handle_data=handle_data,\n",
    "                        capital_base=10000,\n",
    "                        data_frequency='daily', \n",
    "                        bundle='quandl'\n",
    "                       )"
   ]
  },
  {
   "cell_type": "code",
   "execution_count": null,
   "metadata": {},
   "outputs": [],
   "source": []
  },
  {
   "cell_type": "code",
   "execution_count": null,
   "metadata": {},
   "outputs": [],
   "source": []
  }
 ],
 "metadata": {
  "kernelspec": {
   "display_name": "Python 3",
   "language": "python",
   "name": "python3"
  },
  "language_info": {
   "codemirror_mode": {
    "name": "ipython",
    "version": 3
   },
   "file_extension": ".py",
   "mimetype": "text/x-python",
   "name": "python",
   "nbconvert_exporter": "python",
   "pygments_lexer": "ipython3",
   "version": "3.5.6"
  }
 },
 "nbformat": 4,
 "nbformat_minor": 4
}
