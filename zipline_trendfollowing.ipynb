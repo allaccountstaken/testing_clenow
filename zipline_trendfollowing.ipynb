{
 "cells": [
  {
   "cell_type": "code",
   "execution_count": 20,
   "metadata": {},
   "outputs": [],
   "source": [
    "import zipline\n",
    "from zipline.api import future_symbol, \\\n",
    "    set_commission, set_slippage, schedule_function, date_rules, \\\n",
    "    time_rules, continuous_future, order_target\n",
    "from zipline.finance.commission import PerTrade, PerContract\n",
    "from zipline.finance.slippage import VolumeShareSlippage, \\\n",
    "    FixedSlippage, VolatilityVolumeShare\n",
    "\n",
    "from datetime import datetime\n",
    "import pytz\n",
    "import matplotlib.pyplot as plt\n",
    "import pyfolio as pf\n",
    "import pandas as pd\n",
    "import numpy as np\n",
    "\n",
    "%matplotlib inline"
   ]
  },
  {
   "cell_type": "code",
   "execution_count": 21,
   "metadata": {},
   "outputs": [
    {
     "data": {
      "application/vnd.jupyter.widget-view+json": {
       "model_id": "ad141b22b6f84833a78387cae354bcee",
       "version_major": 2,
       "version_minor": 0
      },
      "text/plain": [
       "HTML(value='')"
      ]
     },
     "metadata": {},
     "output_type": "display_data"
    }
   ],
   "source": [
    "# These lines below are for dynamic text reporting\n",
    "from IPython.display import display\n",
    "import ipywidgets as widgets\n",
    "out = widgets.HTML()\n",
    "display(out)"
   ]
  },
  {
   "cell_type": "code",
   "execution_count": 22,
   "metadata": {},
   "outputs": [],
   "source": [
    "# Model settings:\n",
    "starting_portfolio = 50000000\n",
    "risk_factor = 0.0015\n",
    "stop_distance = 3\n",
    "breakout_window = 50\n",
    "vola_window = 40\n",
    "enable_commission = True\n",
    "enable_slippage = True"
   ]
  },
  {
   "cell_type": "code",
   "execution_count": 23,
   "metadata": {},
   "outputs": [],
   "source": [
    "def report_result(context, data):\n",
    "    context.months += 1\n",
    "    today = zipline.api.get_datetie().date()\n",
    "    \n",
    "    # Calculate annualized return so far\n",
    "    ann_ret = np.power(context.portfolio_value / starting_portfolio, 12 / context.months) - 1\n",
    "    \n",
    "    # Update the text\n",
    "    out.value = \"\"\"{} We have traded <b>{}<b> months\n",
    "    and the annualized return is <b>{:.2%}<b>\"\"\".format(today, context.months, ann_ret)"
   ]
  },
  {
   "cell_type": "code",
   "execution_count": 24,
   "metadata": {},
   "outputs": [],
   "source": [
    "def roll_futures(context, data):\n",
    "    open_orders = zipline.api.get_open_orders()\n",
    "    \n",
    "    for held_contract in context.portfolio.positions:\n",
    "        # don't roll positions that are set to change by core logic\n",
    "        if held_contract in open_orders:\n",
    "            continue\n",
    "            \n",
    "        # Save some time by only checking rolls for contracts stopping trading in the next days\n",
    "        days_to_auto_close = (held_contract.auto_close_date.date() - data.current_session.date()).days\n",
    "        if days_to_auto.close > 5:\n",
    "            continue\n",
    "            \n",
    "        # Make a continuation\n",
    "        continuation = continuous_future(held_contract.root_symbol, \n",
    "                                         offset=0,\n",
    "                                         roll='volume',\n",
    "                                         adjustment='mul' \n",
    "                                        )\n",
    "        \n",
    "        # Get the current contract of the continuation\n",
    "        continuation_contract = data.current(continuation, 'contract')\n",
    "        \n",
    "        if continuation_contract != held_contract:\n",
    "            # Check how many contracts we hold\n",
    "            pos_size = context.portfolio.positions[held_contract].amount\n",
    "            \n",
    "            # Close current position\n",
    "            order_target(held_contract, 0)\n",
    "            \n",
    "            # Open new position\n",
    "            order_target(continuation_contract, pos_size)"
   ]
  },
  {
   "cell_type": "code",
   "execution_count": null,
   "metadata": {},
   "outputs": [],
   "source": [
    "def position_size(portfolio_value, std, point_value):\n",
    "    target_variation = portfolio_value * risk_factor\n",
    "    contract_variation = std * point_value\n",
    "    cont"
   ]
  }
 ],
 "metadata": {
  "kernelspec": {
   "display_name": "Python 3",
   "language": "python",
   "name": "python3"
  },
  "language_info": {
   "codemirror_mode": {
    "name": "ipython",
    "version": 3
   },
   "file_extension": ".py",
   "mimetype": "text/x-python",
   "name": "python",
   "nbconvert_exporter": "python",
   "pygments_lexer": "ipython3",
   "version": "3.5.6"
  }
 },
 "nbformat": 4,
 "nbformat_minor": 4
}
