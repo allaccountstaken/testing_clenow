{
 "cells": [
  {
   "cell_type": "code",
   "execution_count": 20,
   "metadata": {},
   "outputs": [],
   "source": [
    "import zipline\n",
    "from zipline.api import future_symbol, \\\n",
    "    set_commission, set_slippage, schedule_function, date_rules, \\\n",
    "    time_rules, continuous_future, order_target\n",
    "from zipline.finance.commission import PerTrade, PerContract\n",
    "from zipline.finance.slippage import VolumeShareSlippage, \\\n",
    "    FixedSlippage, VolatilityVolumeShare\n",
    "\n",
    "from datetime import datetime\n",
    "import pytz\n",
    "import matplotlib.pyplot as plt\n",
    "import pyfolio as pf\n",
    "import pandas as pd\n",
    "import numpy as np\n",
    "\n",
    "%matplotlib inline"
   ]
  },
  {
   "cell_type": "code",
   "execution_count": 21,
   "metadata": {},
   "outputs": [
    {
     "data": {
      "application/vnd.jupyter.widget-view+json": {
       "model_id": "ad141b22b6f84833a78387cae354bcee",
       "version_major": 2,
       "version_minor": 0
      },
      "text/plain": [
       "HTML(value='')"
      ]
     },
     "metadata": {},
     "output_type": "display_data"
    }
   ],
   "source": [
    "# These lines below are for dynamic text reporting\n",
    "from IPython.display import display\n",
    "import ipywidgets as widgets\n",
    "out = widgets.HTML()\n",
    "display(out)"
   ]
  },
  {
   "cell_type": "code",
   "execution_count": 22,
   "metadata": {},
   "outputs": [],
   "source": [
    "# Model settings:\n",
    "starting_portfolio = 50000000\n",
    "risk_factor = 0.0015\n",
    "stop_distance = 3\n",
    "breakout_window = 50\n",
    "vola_window = 40\n",
    "enable_commission = True\n",
    "enable_slippage = True"
   ]
  },
  {
   "cell_type": "code",
   "execution_count": 23,
   "metadata": {},
   "outputs": [],
   "source": [
    "def report_result(context, data):\n",
    "    context.months += 1\n",
    "    today = zipline.api.get_datetie().date()\n",
    "    \n",
    "    # Calculate annualized return so far\n",
    "    ann_ret = np.power(context.portfolio_value / starting_portfolio, 12 / context.months) - 1\n",
    "    \n",
    "    # Update the text\n",
    "    out.value = \"\"\"{} We have traded <b>{}<b> months\n",
    "    and the annualized return is <b>{:.2%}<b>\"\"\".format(today, context.months, ann_ret)"
   ]
  },
  {
   "cell_type": "code",
   "execution_count": 24,
   "metadata": {},
   "outputs": [],
   "source": [
    "def roll_futures(context, data):\n",
    "    open_orders = zipline.api.get_open_orders()\n",
    "    \n",
    "    for held_contract in context.portfolio.positions:\n",
    "        # don't roll positions that are set to change by core logic\n",
    "        if held_contract in open_orders:\n",
    "            continue\n",
    "            \n",
    "        # Save some time by only checking rolls for contracts stopping trading in the next days\n",
    "        days_to_auto_close = (held_contract.auto_close_date.date() - data.current_session.date()).days\n",
    "        if days_to_auto.close > 5:\n",
    "            continue\n",
    "            \n",
    "        # Make a continuation\n",
    "        continuation = continuous_future(held_contract.root_symbol, \n",
    "                                         offset=0,\n",
    "                                         roll='volume',\n",
    "                                         adjustment='mul' \n",
    "                                        )\n",
    "        \n",
    "        # Get the current contract of the continuation\n",
    "        continuation_contract = data.current(continuation, 'contract')\n",
    "        \n",
    "        if continuation_contract != held_contract:\n",
    "            # Check how many contracts we hold\n",
    "            pos_size = context.portfolio.positions[held_contract].amount\n",
    "            \n",
    "            # Close current position\n",
    "            order_target(held_contract, 0)\n",
    "            \n",
    "            # Open new position\n",
    "            order_target(continuation_contract, pos_size)"
   ]
  },
  {
   "cell_type": "code",
   "execution_count": 25,
   "metadata": {},
   "outputs": [],
   "source": [
    "def position_size(portfolio_value, std, point_value):\n",
    "    target_variation = portfolio_value * risk_factor\n",
    "    contract_variation = std * point_value\n",
    "    contracts = target_variation / contract_variation\n",
    "    return int(np.nan_to_num(contracts))"
   ]
  },
  {
   "cell_type": "code",
   "execution_count": 26,
   "metadata": {},
   "outputs": [],
   "source": [
    "def initialize(context):\n",
    "    # Cost settings\n",
    "    if enable_commision:\n",
    "        comm_model = PerContract(cost=0.85, exchange_fee=1.5)\n",
    "    else:\n",
    "        comm_model = PerTrade(cost=0.0)\n",
    "    \n",
    "    set_commission(us_futures=comm_model)\n",
    "    \n",
    "    if enable_slippage:\n",
    "        slippage_model = VolatilityVolumeShare(volume_limit=0.2)\n",
    "    else:\n",
    "        slippage_model = FixedSliappage(spread=0.0)\n",
    "        \n",
    "    set_slippage(us_futures=slippage_model)\n",
    "    \n",
    "    # Markets to trade\n",
    "    currencies = ['AD', 'BP', 'CD', 'CU', 'DX', 'JY', 'NE', 'SF']\n",
    "    agricultural = ['BL', '_C', 'CT', 'FC', 'KC', 'LR', 'LS', '_O', '_S', 'SB', 'SM', '_W']\n",
    "    nonagricultural = ['CL', 'GC', 'HG', 'HO', 'LG', 'NG', 'PA', 'PL', 'RB', 'SI']\n",
    "    equities = ['ES', 'NK', 'NQ', 'TW', 'VX', 'YM']\n",
    "    rates = ['ED', 'FV', 'TU', 'TY', 'US']\n",
    "    \n",
    "    # Make a list of all the markets\n",
    "    markets = currencies + agricultural + nonagricultural + equities + rates\n",
    "    \n",
    "    # Make a list of all continuations\n",
    "    context.universe = [\n",
    "        continuous_future(market, offset=0, roll='volume', adjustment='mul')\n",
    "        for market in markets\n",
    "                       ]\n",
    "    # We'll use this to keep trak of best position reading, used to calc. stop points:\n",
    "    context.highest_in_position = {market: 0 for market in markets}\n",
    "    context.lowest_in_position = {market: 0 for market in markets}\n",
    "    \n",
    "    # Schedule the daily trading\n",
    "    schedule_function(daily_trade, date_rules.every_day(), time_rules.market_close())\n",
    "    \n",
    "    # This is used for progress output during the backtest\n",
    "    context.months = 0\n",
    "    \n",
    "    # Schedule monthly report output\n",
    "    schedule_function(func=report_result, \n",
    "                      date_rule=date_rules.month_start(), \n",
    "                      time_rule=time_rules.market_open()\n",
    "                     )"
   ]
  },
  {
   "cell_type": "code",
   "execution_count": null,
   "metadata": {},
   "outputs": [],
   "source": [
    "def analyze(context, data):\n",
    "    # Get continuation data\n",
    "    hist = data.history(context.universe, \n",
    "                        fields=['close', 'volume'], \n",
    "                        frequency='1d', \n",
    "                        bar_count=250\n",
    "                       )"
   ]
  }
 ],
 "metadata": {
  "kernelspec": {
   "display_name": "Python 3",
   "language": "python",
   "name": "python3"
  },
  "language_info": {
   "codemirror_mode": {
    "name": "ipython",
    "version": 3
   },
   "file_extension": ".py",
   "mimetype": "text/x-python",
   "name": "python",
   "nbconvert_exporter": "python",
   "pygments_lexer": "ipython3",
   "version": "3.5.6"
  }
 },
 "nbformat": 4,
 "nbformat_minor": 4
}
