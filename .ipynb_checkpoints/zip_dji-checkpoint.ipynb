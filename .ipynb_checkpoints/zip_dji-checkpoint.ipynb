{
 "cells": [
  {
   "cell_type": "code",
   "execution_count": 8,
   "metadata": {},
   "outputs": [],
   "source": [
    "import matplotlib.pyplot as plt\n",
    "import pandas as pd\n",
    "from zipline import run_algorithm\n",
    "from zipline.api import order_target_percent, record, symbol\n",
    "from datetime import datetime\n",
    "import pytz\n",
    "\n",
    "%matplotlib inline "
   ]
  },
  {
   "cell_type": "code",
   "execution_count": 17,
   "metadata": {},
   "outputs": [],
   "source": [
    "def initialize(context):\n",
    "    dji = ['AAPL',\n",
    "          'AXP',\n",
    "          'BA',\n",
    "          'CAT',\n",
    "          'CSCO',\n",
    "          'CVX',\n",
    "          'DIS',\n",
    "          'DWDP', # ? \"DD\" or \"GE\"\n",
    "          'GS',\n",
    "          'HD',\n",
    "          'IBM',\n",
    "          'INTC',\n",
    "          'JNJ',\n",
    "          'JPM',\n",
    "          'KO',\n",
    "          'MCD',\n",
    "          'MMM',\n",
    "          'MRK',\n",
    "          'MSFT',\n",
    "          'NKE',\n",
    "          'PFE',\n",
    "          'PG',\n",
    "          'TRV',\n",
    "          'UNH',\n",
    "          'UTX', #RTX\n",
    "          'V',\n",
    "          'VZ',\n",
    "          'WBA',\n",
    "          'WMT',\n",
    "          'XOM']\n",
    "    \n",
    "    # Make a list of symbols from the list of tickers\n",
    "    context.dji_symbols = [symbol(s) for s in dji]\n",
    "    \n",
    "    # Moving average window\n",
    "    context.index_average_window = 100\n",
    "    \n",
    "    # Set zipline benchmark to false\n",
    "    context.set_benchmark(False)\n",
    "\n",
    "def handle_data(data, context):\n",
    "    # Get history of all the stock \n",
    "    stock_hist = data.history(context.dji_symbols, 'close', context.index_average_window, '1d')\n",
    "    \n",
    "    # Make empty DataFrame to start with\n",
    "    stock_analytics = pd.DateFrame()\n",
    "    \n",
    "    # Add column for above or below average\n",
    "    stock_analytics['above_mean'] = stock_hist.iloc[-1] > stock_hist.mean()\n",
    "    \n",
    "    # Set weights for stocks to buy\n",
    "    stock_analytics.loc[stock_analytics['above_mean'] == True, 'weight'] = 1/len(context.dji_symbols)\n",
    "    \n",
    "    # Set zero weights for the rest\n",
    "    stock_analytics.loc[stock_analytics['above_mean'] == False, 'weight'] = 0.0\n",
    "    \n",
    "    # Iterate each row and place trades\n",
    "    for stock, analytics in stock_analytics.itterrows():\n",
    "        # Check if the stock can be traded?\n",
    "        if data.can_trade(stock):\n",
    "            # Place the trade\n",
    "            order_target_percent(stock, analytics['weight'])\n",
    "            \n",
    "def analyze(context, perf):\n",
    "    fig = plt.figure(figsize=(12, 8))\n",
    "    \n",
    "    # First chart\n",
    "    ax1 = fig.add_subplot(311)\n",
    "    ax1.set_title('Strategy results')\n",
    "    ax1.plot(pref['portfolio_value'], linestyle='-', label='Equity Curve', linewidth=3.0)\n",
    "    ax1.legend()\n",
    "    ax1.grid(False)\n",
    "    \n",
    "    # Second chart\n",
    "    ax2 = fig.add_subplot(312)\n",
    "    ax2.plot(perf['gross_leverage'], linestule='-', linewidth=1.0)\n",
    "    ax2.legend()\n",
    "    ax2.grid(True)\n",
    "    \n",
    "    # Third chart\n",
    "    ax3 = fig.add_subplot(313)\n",
    "    ax3.plot(perf['returns'], label='Returns', linestyle='-.', linewidth=1.0)\n",
    "    ax3.legend()\n",
    "    ax3.grid(True)\n",
    "    \n",
    "    "
   ]
  },
  {
   "cell_type": "code",
   "execution_count": 18,
   "metadata": {},
   "outputs": [],
   "source": [
    "# Set start and end dates\n",
    "#start = pd.to_datetime('2004-1-1', utc=True)\n",
    "#end = pd.to_datetime('2005-12-31', utc=True)\n",
    "\n",
    "start_date = pd.Timestamp('2002-1-1', tz='utc')\n",
    "end_date = pd.Timestamp('2017-12-31', tz='utc')\n",
    "#type(start_date)"
   ]
  },
  {
   "cell_type": "code",
   "execution_count": 19,
   "metadata": {},
   "outputs": [
    {
     "ename": "AttributeError",
     "evalue": "'zipline._protocol.BarData' object has no attribute 'dji_symbols'",
     "output_type": "error",
     "traceback": [
      "\u001b[0;31m---------------------------------------------------------------------------\u001b[0m",
      "\u001b[0;31mAttributeError\u001b[0m                            Traceback (most recent call last)",
      "\u001b[0;32m<ipython-input-19-b44527a41008>\u001b[0m in \u001b[0;36m<module>\u001b[0;34m()\u001b[0m\n\u001b[1;32m      6\u001b[0m                         \u001b[0mhandle_data\u001b[0m\u001b[0;34m=\u001b[0m\u001b[0mhandle_data\u001b[0m\u001b[0;34m,\u001b[0m\u001b[0;34m\u001b[0m\u001b[0m\n\u001b[1;32m      7\u001b[0m                         \u001b[0mcapital_base\u001b[0m\u001b[0;34m=\u001b[0m\u001b[0;36m10000\u001b[0m\u001b[0;34m,\u001b[0m\u001b[0;34m\u001b[0m\u001b[0m\n\u001b[0;32m----> 8\u001b[0;31m                         \u001b[0mdata_frequency\u001b[0m\u001b[0;34m=\u001b[0m\u001b[0;34m'weekly'\u001b[0m\u001b[0;34m,\u001b[0m \u001b[0mbundle\u001b[0m\u001b[0;34m=\u001b[0m\u001b[0;34m'quandl'\u001b[0m\u001b[0;34m\u001b[0m\u001b[0m\n\u001b[0m\u001b[1;32m      9\u001b[0m                        )\n",
      "\u001b[0;32m/Users/dmitrymikhaylov/opt/anaconda3/envs/zip35/lib/python3.5/site-packages/zipline/utils/run_algo.py\u001b[0m in \u001b[0;36mrun_algorithm\u001b[0;34m(start, end, initialize, capital_base, handle_data, before_trading_start, analyze, data_frequency, bundle, bundle_timestamp, trading_calendar, metrics_set, benchmark_returns, default_extension, extensions, strict_extensions, environ, blotter)\u001b[0m\n\u001b[1;32m    405\u001b[0m         \u001b[0menviron\u001b[0m\u001b[0;34m=\u001b[0m\u001b[0menviron\u001b[0m\u001b[0;34m,\u001b[0m\u001b[0;34m\u001b[0m\u001b[0m\n\u001b[1;32m    406\u001b[0m         \u001b[0mblotter\u001b[0m\u001b[0;34m=\u001b[0m\u001b[0mblotter\u001b[0m\u001b[0;34m,\u001b[0m\u001b[0;34m\u001b[0m\u001b[0m\n\u001b[0;32m--> 407\u001b[0;31m         \u001b[0mbenchmark_spec\u001b[0m\u001b[0;34m=\u001b[0m\u001b[0mbenchmark_spec\u001b[0m\u001b[0;34m,\u001b[0m\u001b[0;34m\u001b[0m\u001b[0m\n\u001b[0m\u001b[1;32m    408\u001b[0m     )\n\u001b[1;32m    409\u001b[0m \u001b[0;34m\u001b[0m\u001b[0m\n",
      "\u001b[0;32m/Users/dmitrymikhaylov/opt/anaconda3/envs/zip35/lib/python3.5/site-packages/zipline/utils/run_algo.py\u001b[0m in \u001b[0;36m_run\u001b[0;34m(handle_data, initialize, before_trading_start, analyze, algofile, algotext, defines, data_frequency, capital_base, bundle, bundle_timestamp, start, end, output, trading_calendar, print_algo, metrics_set, local_namespace, environ, blotter, benchmark_spec)\u001b[0m\n\u001b[1;32m    214\u001b[0m             \u001b[0;34m}\u001b[0m \u001b[0;32mif\u001b[0m \u001b[0malgotext\u001b[0m \u001b[0;32mis\u001b[0m \u001b[0;32mNone\u001b[0m \u001b[0;32melse\u001b[0m \u001b[0;34m{\u001b[0m\u001b[0;34m\u001b[0m\u001b[0m\n\u001b[1;32m    215\u001b[0m                 \u001b[0;34m'algo_filename'\u001b[0m\u001b[0;34m:\u001b[0m \u001b[0mgetattr\u001b[0m\u001b[0;34m(\u001b[0m\u001b[0malgofile\u001b[0m\u001b[0;34m,\u001b[0m \u001b[0;34m'name'\u001b[0m\u001b[0;34m,\u001b[0m \u001b[0;34m'<algorithm>'\u001b[0m\u001b[0;34m)\u001b[0m\u001b[0;34m,\u001b[0m\u001b[0;34m\u001b[0m\u001b[0m\n\u001b[0;32m--> 216\u001b[0;31m                 \u001b[0;34m'script'\u001b[0m\u001b[0;34m:\u001b[0m \u001b[0malgotext\u001b[0m\u001b[0;34m,\u001b[0m\u001b[0;34m\u001b[0m\u001b[0m\n\u001b[0m\u001b[1;32m    217\u001b[0m             }\n\u001b[1;32m    218\u001b[0m         ).run()\n",
      "\u001b[0;32m/Users/dmitrymikhaylov/opt/anaconda3/envs/zip35/lib/python3.5/site-packages/zipline/algorithm.py\u001b[0m in \u001b[0;36mrun\u001b[0;34m(self, data_portal)\u001b[0m\n\u001b[1;32m    641\u001b[0m         \u001b[0;32mtry\u001b[0m\u001b[0;34m:\u001b[0m\u001b[0;34m\u001b[0m\u001b[0m\n\u001b[1;32m    642\u001b[0m             \u001b[0mperfs\u001b[0m \u001b[0;34m=\u001b[0m \u001b[0;34m[\u001b[0m\u001b[0;34m]\u001b[0m\u001b[0;34m\u001b[0m\u001b[0m\n\u001b[0;32m--> 643\u001b[0;31m             \u001b[0;32mfor\u001b[0m \u001b[0mperf\u001b[0m \u001b[0;32min\u001b[0m \u001b[0mself\u001b[0m\u001b[0;34m.\u001b[0m\u001b[0mget_generator\u001b[0m\u001b[0;34m(\u001b[0m\u001b[0;34m)\u001b[0m\u001b[0;34m:\u001b[0m\u001b[0;34m\u001b[0m\u001b[0m\n\u001b[0m\u001b[1;32m    644\u001b[0m                 \u001b[0mperfs\u001b[0m\u001b[0;34m.\u001b[0m\u001b[0mappend\u001b[0m\u001b[0;34m(\u001b[0m\u001b[0mperf\u001b[0m\u001b[0;34m)\u001b[0m\u001b[0;34m\u001b[0m\u001b[0m\n\u001b[1;32m    645\u001b[0m \u001b[0;34m\u001b[0m\u001b[0m\n",
      "\u001b[0;32m/Users/dmitrymikhaylov/opt/anaconda3/envs/zip35/lib/python3.5/site-packages/zipline/gens/tradesimulation.py\u001b[0m in \u001b[0;36mtransform\u001b[0;34m(self)\u001b[0m\n\u001b[1;32m    203\u001b[0m             \u001b[0;32mfor\u001b[0m \u001b[0mdt\u001b[0m\u001b[0;34m,\u001b[0m \u001b[0maction\u001b[0m \u001b[0;32min\u001b[0m \u001b[0mself\u001b[0m\u001b[0;34m.\u001b[0m\u001b[0mclock\u001b[0m\u001b[0;34m:\u001b[0m\u001b[0;34m\u001b[0m\u001b[0m\n\u001b[1;32m    204\u001b[0m                 \u001b[0;32mif\u001b[0m \u001b[0maction\u001b[0m \u001b[0;34m==\u001b[0m \u001b[0mBAR\u001b[0m\u001b[0;34m:\u001b[0m\u001b[0;34m\u001b[0m\u001b[0m\n\u001b[0;32m--> 205\u001b[0;31m                     \u001b[0;32mfor\u001b[0m \u001b[0mcapital_change_packet\u001b[0m \u001b[0;32min\u001b[0m \u001b[0mevery_bar\u001b[0m\u001b[0;34m(\u001b[0m\u001b[0mdt\u001b[0m\u001b[0;34m)\u001b[0m\u001b[0;34m:\u001b[0m\u001b[0;34m\u001b[0m\u001b[0m\n\u001b[0m\u001b[1;32m    206\u001b[0m                         \u001b[0;32myield\u001b[0m \u001b[0mcapital_change_packet\u001b[0m\u001b[0;34m\u001b[0m\u001b[0m\n\u001b[1;32m    207\u001b[0m                 \u001b[0;32melif\u001b[0m \u001b[0maction\u001b[0m \u001b[0;34m==\u001b[0m \u001b[0mSESSION_START\u001b[0m\u001b[0;34m:\u001b[0m\u001b[0;34m\u001b[0m\u001b[0m\n",
      "\u001b[0;32m/Users/dmitrymikhaylov/opt/anaconda3/envs/zip35/lib/python3.5/site-packages/zipline/gens/tradesimulation.py\u001b[0m in \u001b[0;36mevery_bar\u001b[0;34m(dt_to_use, current_data, handle_data)\u001b[0m\n\u001b[1;32m    131\u001b[0m                 \u001b[0mmetrics_tracker\u001b[0m\u001b[0;34m.\u001b[0m\u001b[0mprocess_commission\u001b[0m\u001b[0;34m(\u001b[0m\u001b[0mcommission\u001b[0m\u001b[0;34m)\u001b[0m\u001b[0;34m\u001b[0m\u001b[0m\n\u001b[1;32m    132\u001b[0m \u001b[0;34m\u001b[0m\u001b[0m\n\u001b[0;32m--> 133\u001b[0;31m             \u001b[0mhandle_data\u001b[0m\u001b[0;34m(\u001b[0m\u001b[0malgo\u001b[0m\u001b[0;34m,\u001b[0m \u001b[0mcurrent_data\u001b[0m\u001b[0;34m,\u001b[0m \u001b[0mdt_to_use\u001b[0m\u001b[0;34m)\u001b[0m\u001b[0;34m\u001b[0m\u001b[0m\n\u001b[0m\u001b[1;32m    134\u001b[0m \u001b[0;34m\u001b[0m\u001b[0m\n\u001b[1;32m    135\u001b[0m             \u001b[0;31m# grab any new orders from the blotter, then clear the list.\u001b[0m\u001b[0;34m\u001b[0m\u001b[0;34m\u001b[0m\u001b[0m\n",
      "\u001b[0;32m/Users/dmitrymikhaylov/opt/anaconda3/envs/zip35/lib/python3.5/site-packages/zipline/utils/events.py\u001b[0m in \u001b[0;36mhandle_data\u001b[0;34m(self, context, data, dt)\u001b[0m\n\u001b[1;32m    216\u001b[0m                     \u001b[0mcontext\u001b[0m\u001b[0;34m,\u001b[0m\u001b[0;34m\u001b[0m\u001b[0m\n\u001b[1;32m    217\u001b[0m                     \u001b[0mdata\u001b[0m\u001b[0;34m,\u001b[0m\u001b[0;34m\u001b[0m\u001b[0m\n\u001b[0;32m--> 218\u001b[0;31m                     \u001b[0mdt\u001b[0m\u001b[0;34m,\u001b[0m\u001b[0;34m\u001b[0m\u001b[0m\n\u001b[0m\u001b[1;32m    219\u001b[0m                 )\n\u001b[1;32m    220\u001b[0m \u001b[0;34m\u001b[0m\u001b[0m\n",
      "\u001b[0;32m/Users/dmitrymikhaylov/opt/anaconda3/envs/zip35/lib/python3.5/site-packages/zipline/utils/events.py\u001b[0m in \u001b[0;36mhandle_data\u001b[0;34m(self, context, data, dt)\u001b[0m\n\u001b[1;32m    235\u001b[0m         \"\"\"\n\u001b[1;32m    236\u001b[0m         \u001b[0;32mif\u001b[0m \u001b[0mself\u001b[0m\u001b[0;34m.\u001b[0m\u001b[0mrule\u001b[0m\u001b[0;34m.\u001b[0m\u001b[0mshould_trigger\u001b[0m\u001b[0;34m(\u001b[0m\u001b[0mdt\u001b[0m\u001b[0;34m)\u001b[0m\u001b[0;34m:\u001b[0m\u001b[0;34m\u001b[0m\u001b[0m\n\u001b[0;32m--> 237\u001b[0;31m             \u001b[0mself\u001b[0m\u001b[0;34m.\u001b[0m\u001b[0mcallback\u001b[0m\u001b[0;34m(\u001b[0m\u001b[0mcontext\u001b[0m\u001b[0;34m,\u001b[0m \u001b[0mdata\u001b[0m\u001b[0;34m)\u001b[0m\u001b[0;34m\u001b[0m\u001b[0m\n\u001b[0m\u001b[1;32m    238\u001b[0m \u001b[0;34m\u001b[0m\u001b[0m\n\u001b[1;32m    239\u001b[0m \u001b[0;34m\u001b[0m\u001b[0m\n",
      "\u001b[0;32m/Users/dmitrymikhaylov/opt/anaconda3/envs/zip35/lib/python3.5/site-packages/zipline/algorithm.py\u001b[0m in \u001b[0;36mhandle_data\u001b[0;34m(self, data)\u001b[0m\n\u001b[1;32m    452\u001b[0m     \u001b[0;32mdef\u001b[0m \u001b[0mhandle_data\u001b[0m\u001b[0;34m(\u001b[0m\u001b[0mself\u001b[0m\u001b[0;34m,\u001b[0m \u001b[0mdata\u001b[0m\u001b[0;34m)\u001b[0m\u001b[0;34m:\u001b[0m\u001b[0;34m\u001b[0m\u001b[0m\n\u001b[1;32m    453\u001b[0m         \u001b[0;32mif\u001b[0m \u001b[0mself\u001b[0m\u001b[0;34m.\u001b[0m\u001b[0m_handle_data\u001b[0m\u001b[0;34m:\u001b[0m\u001b[0;34m\u001b[0m\u001b[0m\n\u001b[0;32m--> 454\u001b[0;31m             \u001b[0mself\u001b[0m\u001b[0;34m.\u001b[0m\u001b[0m_handle_data\u001b[0m\u001b[0;34m(\u001b[0m\u001b[0mself\u001b[0m\u001b[0;34m,\u001b[0m \u001b[0mdata\u001b[0m\u001b[0;34m)\u001b[0m\u001b[0;34m\u001b[0m\u001b[0m\n\u001b[0m\u001b[1;32m    455\u001b[0m \u001b[0;34m\u001b[0m\u001b[0m\n\u001b[1;32m    456\u001b[0m     \u001b[0;32mdef\u001b[0m \u001b[0manalyze\u001b[0m\u001b[0;34m(\u001b[0m\u001b[0mself\u001b[0m\u001b[0;34m,\u001b[0m \u001b[0mperf\u001b[0m\u001b[0;34m)\u001b[0m\u001b[0;34m:\u001b[0m\u001b[0;34m\u001b[0m\u001b[0m\n",
      "\u001b[0;32m<ipython-input-17-675b89aae18e>\u001b[0m in \u001b[0;36mhandle_data\u001b[0;34m(data, context)\u001b[0m\n\u001b[1;32m     42\u001b[0m \u001b[0;32mdef\u001b[0m \u001b[0mhandle_data\u001b[0m\u001b[0;34m(\u001b[0m\u001b[0mdata\u001b[0m\u001b[0;34m,\u001b[0m \u001b[0mcontext\u001b[0m\u001b[0;34m)\u001b[0m\u001b[0;34m:\u001b[0m\u001b[0;34m\u001b[0m\u001b[0m\n\u001b[1;32m     43\u001b[0m     \u001b[0;31m# Get history of all the stock\u001b[0m\u001b[0;34m\u001b[0m\u001b[0;34m\u001b[0m\u001b[0m\n\u001b[0;32m---> 44\u001b[0;31m     \u001b[0mstock_hist\u001b[0m \u001b[0;34m=\u001b[0m \u001b[0mdata\u001b[0m\u001b[0;34m.\u001b[0m\u001b[0mhistory\u001b[0m\u001b[0;34m(\u001b[0m\u001b[0mcontext\u001b[0m\u001b[0;34m.\u001b[0m\u001b[0mdji_symbols\u001b[0m\u001b[0;34m,\u001b[0m \u001b[0;34m'close'\u001b[0m\u001b[0;34m,\u001b[0m \u001b[0mcontext\u001b[0m\u001b[0;34m.\u001b[0m\u001b[0mindex_average_window\u001b[0m\u001b[0;34m,\u001b[0m \u001b[0;34m'1d'\u001b[0m\u001b[0;34m)\u001b[0m\u001b[0;34m\u001b[0m\u001b[0m\n\u001b[0m\u001b[1;32m     45\u001b[0m \u001b[0;34m\u001b[0m\u001b[0m\n\u001b[1;32m     46\u001b[0m     \u001b[0;31m# Make empty DataFrame to start with\u001b[0m\u001b[0;34m\u001b[0m\u001b[0;34m\u001b[0m\u001b[0m\n",
      "\u001b[0;31mAttributeError\u001b[0m: 'zipline._protocol.BarData' object has no attribute 'dji_symbols'"
     ]
    }
   ],
   "source": [
    "# Run the backtest and get the results\n",
    "results = run_algorithm(start=start_date, \n",
    "                        end=end_date,\n",
    "                        initialize=initialize,\n",
    "                        analyze=analyze, \n",
    "                        handle_data=handle_data,\n",
    "                        capital_base=10000,\n",
    "                        data_frequency='weekly', bundle='quandl'\n",
    "                       )"
   ]
  },
  {
   "cell_type": "code",
   "execution_count": null,
   "metadata": {},
   "outputs": [],
   "source": []
  },
  {
   "cell_type": "code",
   "execution_count": 7,
   "metadata": {},
   "outputs": [],
   "source": [
    "import pyfolio as pf"
   ]
  },
  {
   "cell_type": "code",
   "execution_count": null,
   "metadata": {},
   "outputs": [],
   "source": []
  }
 ],
 "metadata": {
  "kernelspec": {
   "display_name": "Python 3",
   "language": "python",
   "name": "python3"
  },
  "language_info": {
   "codemirror_mode": {
    "name": "ipython",
    "version": 3
   },
   "file_extension": ".py",
   "mimetype": "text/x-python",
   "name": "python",
   "nbconvert_exporter": "python",
   "pygments_lexer": "ipython3",
   "version": "3.5.6"
  }
 },
 "nbformat": 4,
 "nbformat_minor": 4
}
