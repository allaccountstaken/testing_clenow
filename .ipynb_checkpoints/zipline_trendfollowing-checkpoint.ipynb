{
 "cells": [
  {
   "cell_type": "code",
   "execution_count": 20,
   "metadata": {},
   "outputs": [],
   "source": [
    "import zipline\n",
    "from zipline.api import future_symbol, \\\n",
    "    set_commission, set_slippage, schedule_function, date_rules, \\\n",
    "    time_rules, continuous_future, order_target\n",
    "from zipline.finance.commission import PerTrade, PerContract\n",
    "from zipline.finance.slippage import VolumeShareSlippage, \\\n",
    "    FixedSlippage, VolatilityVolumeShare\n",
    "\n",
    "from datetime import datetime\n",
    "import pytz\n",
    "import matplotlib.pyplot as plt\n",
    "import pyfolio as pf\n",
    "import pandas as pd\n",
    "import numpy as np\n",
    "\n",
    "%matplotlib inline"
   ]
  },
  {
   "cell_type": "code",
   "execution_count": 21,
   "metadata": {},
   "outputs": [
    {
     "data": {
      "application/vnd.jupyter.widget-view+json": {
       "model_id": "ad141b22b6f84833a78387cae354bcee",
       "version_major": 2,
       "version_minor": 0
      },
      "text/plain": [
       "HTML(value='')"
      ]
     },
     "metadata": {},
     "output_type": "display_data"
    }
   ],
   "source": [
    "# These lines below are for dynamic text reporting\n",
    "from IPython.display import display\n",
    "import ipywidgets as widgets\n",
    "out = widgets.HTML()\n",
    "display(out)"
   ]
  },
  {
   "cell_type": "code",
   "execution_count": 22,
   "metadata": {},
   "outputs": [],
   "source": [
    "# Model settings:\n",
    "starting_portfolio = 50000000\n",
    "risk_factor = 0.0015\n",
    "stop_distance = 3\n",
    "breakout_window = 50\n",
    "vola_window = 40\n",
    "enable_commission = True\n",
    "enable_slippage = True"
   ]
  },
  {
   "cell_type": "code",
   "execution_count": null,
   "metadata": {},
   "outputs": [],
   "source": []
  }
 ],
 "metadata": {
  "kernelspec": {
   "display_name": "Python 3",
   "language": "python",
   "name": "python3"
  },
  "language_info": {
   "codemirror_mode": {
    "name": "ipython",
    "version": 3
   },
   "file_extension": ".py",
   "mimetype": "text/x-python",
   "name": "python",
   "nbconvert_exporter": "python",
   "pygments_lexer": "ipython3",
   "version": "3.5.6"
  }
 },
 "nbformat": 4,
 "nbformat_minor": 4
}
