{
 "cells": [
  {
   "cell_type": "code",
   "execution_count": 13,
   "metadata": {},
   "outputs": [],
   "source": [
    "import zipline\n",
    "from zipline.api import order_target_percent, symbol\n",
    "from zipline.api import set_commission, set_slippage\n",
    "from zipline.api import schedule_function, date_rules, time_rules \n",
    "\n",
    "from zipline.finance.commission import PerDollar\n",
    "from zipline.finance.slippage import VolumeShareSlippage, FixedSlippage\n",
    "\n",
    "from datetime import datetime\n",
    "import pytz\n",
    "import matplotlib.pyplot as plt\n",
    "import pyfolio as pf\n",
    "import pandas as pd\n",
    "import numpy as np\n",
    "from scipy import stats\n",
    "\n",
    "%matplotlib inline"
   ]
  },
  {
   "cell_type": "code",
   "execution_count": 14,
   "metadata": {},
   "outputs": [],
   "source": [
    "# Model Settings\n",
    "initial_portfolio = 100000\n",
    "momentum_window = 125\n",
    "minimum_momentum = 40\n",
    "portfolio_size = 30\n",
    "vola_window = 20\n",
    "\n",
    "# Commission and Slippage Settings\n",
    "enable_commission = True\n",
    "commission_pct = 0.001\n",
    "enable_slippage = True\n",
    "slippage_volume_limit = 0.025\n",
    "slippage_impact = 0.05"
   ]
  },
  {
   "cell_type": "code",
   "execution_count": 15,
   "metadata": {},
   "outputs": [],
   "source": [
    "# Momementum scure calculations\n",
    "def momentum_score(ts):\n",
    "    \"\"\"\n",
    "    Input: Price time series.\n",
    "    Output: Annualized exponential regression slope multiplied by its corresponding R^2\n",
    "    \"\"\"\n",
    "    # Make a list of consecutive numbers\n",
    "    x = np.arange(len(ts))\n",
    "    # Get logs of prices in the time series\n",
    "    log_ts = np.log(ts)\n",
    "    # Calculate regression values\n",
    "    slope, intercept, r_value, p_value, std_err = stats.linregress(x, log_ts)\n",
    "    # Annualized percent\n",
    "    annualized_slope = (np.power(np.exp(slope), 252) - 1) * 100\n",
    "    # Adjust for fitness\n",
    "    score = annualize_slope * (r_value ** 2)\n",
    "    \n",
    "    return score"
   ]
  },
  {
   "cell_type": "code",
   "execution_count": 16,
   "metadata": {},
   "outputs": [],
   "source": [
    "# Volatility is used for position sizing \n",
    "def volatility(ts):\n",
    "    return ts.pct_change().rolling(vola_window).std().iloc[-1]"
   ]
  },
  {
   "cell_type": "code",
   "execution_count": 17,
   "metadata": {},
   "outputs": [],
   "source": [
    "# Percentage return for the previous month\n",
    "def output_progress(context):\n",
    "    \"\"\"\n",
    "    Output some performance numbers during backtest run.\n",
    "    This code just prints out teh past month's performance\n",
    "    so that one has something to look at while the backtest runs\n",
    "    \"\"\"\n",
    "    \n",
    "    # Get today's date\n",
    "    today = zipline.api.get_datetime().date()\n",
    "    \n",
    "    # Calculate percent difference since last month\n",
    "    perf_pct = (context.portfolio.portfolio_value / context.last_month) - 1\n",
    "    \n",
    "    # Print performance, format as percent with two decimals\n",
    "    print(\"{} - Last month results: {:.2%}\".format(today, perf_pct))\n",
    "    \n",
    "    # Remember today's portfolio value for the next month's calculation \n",
    "    context.last_month = context.portfolio.portfolio_value\n",
    "    "
   ]
  },
  {
   "cell_type": "code",
   "execution_count": 18,
   "metadata": {},
   "outputs": [],
   "source": [
    "# Startup routine assumes that one has a local file with historical index membership\n",
    "def initialize(context):\n",
    "    \n",
    "    # Set zipline benchmark to false\n",
    "    context.set_benchmark(False)\n",
    "    \n",
    "    \n",
    "    # Set commission and slipage\n",
    "    if enable_commission:\n",
    "        comm_model = PerDollar(cost=commission_pct)\n",
    "    else:\n",
    "        comm_model = PerDollar(cost=0.0)\n",
    "    set_commission(comm_model)\n",
    "    \n",
    "    if enable_slippage:\n",
    "        slippage_model = VolumeShareSlippage(volume_limit=slippage_volume_limit, price_impact=slippage_impact)\n",
    "    else:\n",
    "        slippage_model = FixedSlippage(spread=0.0)\n",
    "    set_slippage(slappage_model)\n",
    "    \n",
    "    # Functionality below is used only for progress output\n",
    "    context.last_month = initial_portfolio\n",
    "    \n",
    "    # Store index membership\n",
    "    context.index_memebers = pd.read_csv('sp500_membership.csv', index_col=0, parse_dates=[0])\n",
    "    \n",
    "    #Schedule rebalance monthly\n",
    "    schedule_function(\n",
    "        func=rebalance,\n",
    "        date_rule=date_rules.month_start(),\n",
    "        time_rule=time_rules.market_open()\n",
    "    )"
   ]
  },
  {
   "cell_type": "code",
   "execution_count": 20,
   "metadata": {},
   "outputs": [
    {
     "ename": "SyntaxError",
     "evalue": "invalid syntax (<ipython-input-20-c8dc2cfeb0b8>, line 52)",
     "output_type": "error",
     "traceback": [
      "\u001b[0;36m  File \u001b[0;32m\"<ipython-input-20-c8dc2cfeb0b8>\"\u001b[0;36m, line \u001b[0;32m52\u001b[0m\n\u001b[0;31m    vola_table = hist[new_portfolio.index].apply(volatility)\u001b[0m\n\u001b[0m             ^\u001b[0m\n\u001b[0;31mSyntaxError\u001b[0m\u001b[0;31m:\u001b[0m invalid syntax\n"
     ]
    }
   ],
   "source": [
    "def rebalance(context, data):\n",
    "    # Write some progress output during the backtest\n",
    "    output_progress(context)\n",
    "    \n",
    "    # Find out what stocks were memebers of the index on a specific date (todays date)\n",
    "    today = zipline.api.get_datetime()\n",
    "    \n",
    "    # Second, get the index makeup for all days prior to a specific date (todays date)\n",
    "    all_prior = context.index_memebers.loc[context.index_members.index < today]\n",
    "    \n",
    "    # Now let's snag teh first column of the last, i.e. latest entry\n",
    "    latest_day = all_prior.iloc[1, 0]\n",
    "    \n",
    "    # Split the text string with ticker into a list\n",
    "    list_of_tickers = latest_day.split(',')\n",
    "    \n",
    "    # Finally, get the zipline sybmols for the tickers\n",
    "    todays_universe = [symbol(ticker) for ticker in list_of_tickers]\n",
    "    \n",
    "    # Get historical data\n",
    "    hist = data.history(todays_universe, \"close\", momentum_window, \"1d\")\n",
    "    \n",
    "    # Make momentum ranking table\n",
    "    ranking_table = hist.apply(momentum_score).sort_values(ascending=False)\n",
    "    \n",
    "    \"\"\"\n",
    "    Sell logic:\n",
    "    First, we check if any existing positions should be sold.\n",
    "    - Sell if stock is no longer part of index\n",
    "    - Sell if stock has lower momentum value\n",
    "    \"\"\"\n",
    "    kept_positions = list(context.portfolio.positions.keys())\n",
    "    for security in context.portfolio.positions:\n",
    "        if (security not in todays_universe):\n",
    "            order_target_percent(security, 0.0)\n",
    "        elif ranking_table[security] < minimum_momentum:\n",
    "            order_target_percent(security, 0.0)\n",
    "            kept_positions.remove(security)\n",
    "            \n",
    "    \"\"\"\n",
    "    Stock selection logic:\n",
    "    Check how many stocks we are keeping for last month. Fill from top of ranking list, \n",
    "    until we reach the desired total number of portfolio holdings.\n",
    "    \"\"\"\n",
    "    replacement_stocks = portfolio_size - len(kept_positions)\n",
    "    buy_list = ranking_table.loc[\n",
    "        ~ranking_table.index.isin(kept_positions)][:replacement_stocks]\n",
    "    \n",
    "    new_portfolio = pd.concat((buy_list, ranking_table.loc[ranking_table.index.isin(kept_positions)])\n",
    "                              \n",
    "    #Calculate inverse volatility for stocks, and make target position weights                    \n",
    "    vola_table = hist[new_portfolio.index].apply(volatility)\n",
    "    inv_vola_table = 1 / vola_table\n",
    "    sum_inv_vola = np.sum(inv_vola_table)\n",
    "    vola_target_weights = inv_vola_table / sum_inv_vola\n",
    "                              \n",
    "    for security, rank in new_portfolio.iteritems():\n",
    "        weight = vola_target_weights[security]\n",
    "        if security in kept_positions:\n",
    "            order_target_percent(security, weight)                      \n",
    "        else:\n",
    "            if ranking_table[security] > minimum_momentum:\n",
    "                order_target_percent(security, weight)"
   ]
  },
  {
   "cell_type": "code",
   "execution_count": 21,
   "metadata": {},
   "outputs": [],
   "source": [
    "def analyze(context, perf):\n",
    "    perf['max'] = perf.portfolio_value.cummax()\n",
    "    perf['dd'] = (perf.portfolio_value / perf['max']) - 1\n",
    "    maxdd = perf['dd'].min()\n",
    "    ann_ret = (np.power((perf.portfolio_value.iloc[-1] / perf.portfolio_value.iloc[0]), (252 / len(perf))) - 1)\n",
    "               \n",
    "    print(\"Annualized return: {:..2%} Max drawdown: {:.2%}\".format(ann_ret, maxdd)) \n",
    "    return "
   ]
  },
  {
   "cell_type": "code",
   "execution_count": 22,
   "metadata": {},
   "outputs": [
    {
     "ename": "AssertionError",
     "evalue": "",
     "output_type": "error",
     "traceback": [
      "\u001b[0;31m---------------------------------------------------------------------------\u001b[0m",
      "\u001b[0;31mAssertionError\u001b[0m                            Traceback (most recent call last)",
      "\u001b[0;32m<ipython-input-22-56c2d1d5daec>\u001b[0m in \u001b[0;36m<module>\u001b[0;34m()\u001b[0m\n\u001b[1;32m      7\u001b[0m     \u001b[0mcapital_base\u001b[0m\u001b[0;34m=\u001b[0m\u001b[0minitial_portfolio\u001b[0m\u001b[0;34m,\u001b[0m\u001b[0;34m\u001b[0m\u001b[0m\n\u001b[1;32m      8\u001b[0m     \u001b[0mdata_frequency\u001b[0m\u001b[0;34m=\u001b[0m \u001b[0;34m'daily'\u001b[0m\u001b[0;34m,\u001b[0m\u001b[0;34m\u001b[0m\u001b[0m\n\u001b[0;32m----> 9\u001b[0;31m     \u001b[0mbundle\u001b[0m\u001b[0;34m=\u001b[0m\u001b[0;34m'random_stock_data'\u001b[0m\u001b[0;34m\u001b[0m\u001b[0m\n\u001b[0m\u001b[1;32m     10\u001b[0m \u001b[0;34m\u001b[0m\u001b[0m\n\u001b[1;32m     11\u001b[0m )\n",
      "\u001b[0;32m/Users/dmitrymikhaylov/opt/anaconda3/envs/zip35/lib/python3.5/site-packages/zipline/utils/run_algo.py\u001b[0m in \u001b[0;36mrun_algorithm\u001b[0;34m(start, end, initialize, capital_base, handle_data, before_trading_start, analyze, data_frequency, bundle, bundle_timestamp, trading_calendar, metrics_set, benchmark_returns, default_extension, extensions, strict_extensions, environ, blotter)\u001b[0m\n\u001b[1;32m    405\u001b[0m         \u001b[0menviron\u001b[0m\u001b[0;34m=\u001b[0m\u001b[0menviron\u001b[0m\u001b[0;34m,\u001b[0m\u001b[0;34m\u001b[0m\u001b[0m\n\u001b[1;32m    406\u001b[0m         \u001b[0mblotter\u001b[0m\u001b[0;34m=\u001b[0m\u001b[0mblotter\u001b[0m\u001b[0;34m,\u001b[0m\u001b[0;34m\u001b[0m\u001b[0m\n\u001b[0;32m--> 407\u001b[0;31m         \u001b[0mbenchmark_spec\u001b[0m\u001b[0;34m=\u001b[0m\u001b[0mbenchmark_spec\u001b[0m\u001b[0;34m,\u001b[0m\u001b[0;34m\u001b[0m\u001b[0m\n\u001b[0m\u001b[1;32m    408\u001b[0m     )\n\u001b[1;32m    409\u001b[0m \u001b[0;34m\u001b[0m\u001b[0m\n",
      "\u001b[0;32m/Users/dmitrymikhaylov/opt/anaconda3/envs/zip35/lib/python3.5/site-packages/zipline/utils/run_algo.py\u001b[0m in \u001b[0;36m_run\u001b[0;34m(handle_data, initialize, before_trading_start, analyze, algofile, algotext, defines, data_frequency, capital_base, bundle, bundle_timestamp, start, end, output, trading_calendar, print_algo, metrics_set, local_namespace, environ, blotter, benchmark_spec)\u001b[0m\n\u001b[1;32m    201\u001b[0m                 \u001b[0mtrading_calendar\u001b[0m\u001b[0;34m=\u001b[0m\u001b[0mtrading_calendar\u001b[0m\u001b[0;34m,\u001b[0m\u001b[0;34m\u001b[0m\u001b[0m\n\u001b[1;32m    202\u001b[0m                 \u001b[0mcapital_base\u001b[0m\u001b[0;34m=\u001b[0m\u001b[0mcapital_base\u001b[0m\u001b[0;34m,\u001b[0m\u001b[0;34m\u001b[0m\u001b[0m\n\u001b[0;32m--> 203\u001b[0;31m                 \u001b[0mdata_frequency\u001b[0m\u001b[0;34m=\u001b[0m\u001b[0mdata_frequency\u001b[0m\u001b[0;34m,\u001b[0m\u001b[0;34m\u001b[0m\u001b[0m\n\u001b[0m\u001b[1;32m    204\u001b[0m             ),\n\u001b[1;32m    205\u001b[0m             \u001b[0mmetrics_set\u001b[0m\u001b[0;34m=\u001b[0m\u001b[0mmetrics_set\u001b[0m\u001b[0;34m,\u001b[0m\u001b[0;34m\u001b[0m\u001b[0m\n",
      "\u001b[0;32m/Users/dmitrymikhaylov/opt/anaconda3/envs/zip35/lib/python3.5/site-packages/zipline/finance/trading.py\u001b[0m in \u001b[0;36m__init__\u001b[0;34m(self, start_session, end_session, trading_calendar, capital_base, emission_rate, data_frequency, arena)\u001b[0m\n\u001b[1;32m     36\u001b[0m                  arena='backtest'):\n\u001b[1;32m     37\u001b[0m \u001b[0;34m\u001b[0m\u001b[0m\n\u001b[0;32m---> 38\u001b[0;31m         \u001b[0;32massert\u001b[0m \u001b[0mtype\u001b[0m\u001b[0;34m(\u001b[0m\u001b[0mstart_session\u001b[0m\u001b[0;34m)\u001b[0m \u001b[0;34m==\u001b[0m \u001b[0mpd\u001b[0m\u001b[0;34m.\u001b[0m\u001b[0mTimestamp\u001b[0m\u001b[0;34m\u001b[0m\u001b[0m\n\u001b[0m\u001b[1;32m     39\u001b[0m         \u001b[0;32massert\u001b[0m \u001b[0mtype\u001b[0m\u001b[0;34m(\u001b[0m\u001b[0mend_session\u001b[0m\u001b[0;34m)\u001b[0m \u001b[0;34m==\u001b[0m \u001b[0mpd\u001b[0m\u001b[0;34m.\u001b[0m\u001b[0mTimestamp\u001b[0m\u001b[0;34m\u001b[0m\u001b[0m\n\u001b[1;32m     40\u001b[0m \u001b[0;34m\u001b[0m\u001b[0m\n",
      "\u001b[0;31mAssertionError\u001b[0m: "
     ]
    }
   ],
   "source": [
    "start = datetime(1997, 1, 1, 8, 15, 12, 0, pytz.UTC)\n",
    "end = datetime(2018, 12, 31, 8, 15, 12, 0, pytz.UTC)\n",
    "perf = zipline.run_algorithm(\n",
    "    start=start, end=end, \n",
    "    initialize=initialize,\n",
    "    analyze=analyze,\n",
    "    capital_base=initial_portfolio,\n",
    "    data_frequency= 'daily',\n",
    "    bundle='random_stock_data'\n",
    "\n",
    ")"
   ]
  },
  {
   "cell_type": "code",
   "execution_count": null,
   "metadata": {},
   "outputs": [],
   "source": []
  }
 ],
 "metadata": {
  "kernelspec": {
   "display_name": "Python 3",
   "language": "python",
   "name": "python3"
  },
  "language_info": {
   "codemirror_mode": {
    "name": "ipython",
    "version": 3
   },
   "file_extension": ".py",
   "mimetype": "text/x-python",
   "name": "python",
   "nbconvert_exporter": "python",
   "pygments_lexer": "ipython3",
   "version": "3.5.6"
  }
 },
 "nbformat": 4,
 "nbformat_minor": 4
}
