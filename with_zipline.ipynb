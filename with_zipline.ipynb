{
 "cells": [
  {
   "cell_type": "code",
   "execution_count": 2,
   "metadata": {},
   "outputs": [],
   "source": [
    "from zipline import run_algorithm\n",
    "from zipline.api import order_target_percent, symbol\n",
    "from datetime import datetime\n",
    "import pytz\n",
    "import pandas as pd\n",
    "import matplotlib.pyplot as plt\n",
    "% matplotlib inline"
   ]
  },
  {
   "cell_type": "code",
   "execution_count": null,
   "metadata": {},
   "outputs": [],
   "source": [
    "def initialize(context):\n",
    "    context.stock = symbol('AAPL')\n",
    "    context.index_average_window = 100\n",
    "    # Set zipline benchmark to false\n",
    "    context.set_benchmark(False)\n",
    "    \n",
    "def handle_data(context, data):\n",
    "    equities_hist = data.history(context.stock, 'close', context.index_average_window, '1d')\n",
    "    if equities_hist[-1] > equities_hist.mean():\n",
    "        stock_weight = 1.0\n",
    "    else:\n",
    "        stock_weight = 0.0\n",
    "    \n",
    "    # Place order\n",
    "    order_target_percent(context.stock, stock_weight)\n",
    "    \n",
    "def analyze(context, perf):\n",
    "    fig = plt.figure(figsize=(12, 8))\n",
    "    \n",
    "    ax = fig.add_subplot(311)\n",
    "    ax.set_title('Strategy results')\n",
    "    ax.semilogy(perf['portfolio_value'], linestyle='-', label='Equity Curve', linewidth=3)\n",
    "    ax.legend()\n",
    "    ax.grid(False)\n",
    "    \n",
    "    ax2 = fig.add_subplot(312)\n",
    "    ax2.plot(perf['gross_leverage'], label='Exposure', linestyle='-', linewidth=1)\n",
    "    ax2.legend()\n",
    "    ax2.grid(True)\n",
    "    \n",
    "    ax3 = fig.add_subplot(313)\n",
    "    ax3.plot(perf['returns'], label='Returns', linestyle='-.', linewidth=1)\n",
    "    ax3.legend()\n",
    "    ax3.grid(True)\n",
    "\n",
    "# Set start date and end date    \n",
    "#start_date = datetime(2012, 1, 1, tzinfo=pytz.UTC)\n",
    "#end_date = datetime(2015, 12, 31, tzinfo=pytz.UTC)\n",
    "\n",
    "start_date = pd.Timestamp('2002-1-1', tz='utc')\n",
    "end_date = pd.Timestamp('2017-12-31', tz='utc')\n",
    "#type(start_date)\n",
    "\n",
    "# Fire off the backtest\n",
    "results = run_algorithm(\n",
    "    start=start_date, \n",
    "    end=end_date, \n",
    "    initialize=initialize, \n",
    "    analyze=analyze, \n",
    "    handle_data=handle_data, \n",
    "    capital_base=10000, \n",
    "    data_frequency = 'daily', bundle='quandl' \n",
    ") "
   ]
  },
  {
   "cell_type": "code",
   "execution_count": null,
   "metadata": {},
   "outputs": [],
   "source": []
  },
  {
   "cell_type": "code",
   "execution_count": null,
   "metadata": {},
   "outputs": [],
   "source": []
  }
 ],
 "metadata": {
  "kernelspec": {
   "display_name": "Python 3",
   "language": "python",
   "name": "python3"
  },
  "language_info": {
   "codemirror_mode": {
    "name": "ipython",
    "version": 3
   },
   "file_extension": ".py",
   "mimetype": "text/x-python",
   "name": "python",
   "nbconvert_exporter": "python",
   "pygments_lexer": "ipython3",
   "version": "3.5.6"
  }
 },
 "nbformat": 4,
 "nbformat_minor": 4
}
